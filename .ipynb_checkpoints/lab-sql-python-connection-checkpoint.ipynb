{
 "cells": [
  {
   "cell_type": "markdown",
   "id": "db201c76-9e9c-4e08-b0bc-48865e5c1e9c",
   "metadata": {},
   "source": [
    "## Creating the engine to connect to the database \"sakila\""
   ]
  },
  {
   "cell_type": "code",
   "execution_count": null,
   "id": "854b8b68-5540-48d8-92a1-f9a7f7f428c7",
   "metadata": {},
   "outputs": [],
   "source": [
    "import pandas as pd\n",
    "import numpy as np\n",
    "import pymysql\n",
    "from sqlalchemy import create_engine\n",
    "from sqlalchemy import text\n",
    "import getpass  # To get the password without showing the input\n",
    "password = getpass.getpass()"
   ]
  },
  {
   "cell_type": "code",
   "execution_count": null,
   "id": "b95b29b0-6a26-4264-8264-9fd5545ac6be",
   "metadata": {},
   "outputs": [],
   "source": [
    "db = \"sakila\"\n",
    "connection_string = 'mysql+pymysql://root:' + password + '@localhost/'+ db\n",
    "engine = create_engine(connection_string)\n",
    "engine"
   ]
  },
  {
   "cell_type": "markdown",
   "id": "5681940e-13ae-4259-ba34-163eec55f256",
   "metadata": {},
   "source": [
    "## Python function \"rentals_month\""
   ]
  },
  {
   "cell_type": "code",
   "execution_count": null,
   "id": "dec30351-1f71-4327-a44d-efb5155b1cb9",
   "metadata": {},
   "outputs": [],
   "source": [
    "def rentals_month(month, year):\n",
    "    ''' Function that retrieves rental data for a given month and year \n",
    "    (passed as parameters) from the Sakila database.\n",
    "    Month as integer, Year as integer (%Y).\n",
    "    Returns a Pandas DataFrame.'''\n",
    "\n",
    "    # converting it in strings, and formatting month always with 2 digids\n",
    "    year = str(year)\n",
    "    month = (lambda month: str(month) if len(str(month)) == 2 else '0'+str(month))(month)\n",
    "             \n",
    "    with engine.connect() as connection:\n",
    "        query = text(f'''SELECT * FROM rental\n",
    "                        WHERE DATE_FORMAT(CONVERT(rental_date, DATE), '%m') = {month} \n",
    "                        AND DATE_FORMAT(CONVERT(rental_date, DATE), '%Y') = {year};''')\n",
    "        result = connection.execute(query)\n",
    "        df = pd.DataFrame(result.all())\n",
    "\n",
    "    return df  "
   ]
  },
  {
   "cell_type": "markdown",
   "id": "8cd05fdc-9c77-40fd-9533-03b37bf25f3f",
   "metadata": {},
   "source": [
    "## Python function \"rental_count_month\""
   ]
  },
  {
   "cell_type": "code",
   "execution_count": null,
   "id": "23aa5f51-c6b8-4cbf-acfe-95990db7302d",
   "metadata": {},
   "outputs": [],
   "source": [
    "def rental_count_month(df, month, year):\n",
    "    ''' Function that takes the DataFrame provided by rentals_month as input along with \n",
    "    the month and year and returns a new DataFrame containing the number of rentals made \n",
    "    by each customer_id during the selected month and year.'''\n",
    "\n",
    "    # converting it in strings, and formatting month always with 2 digids\n",
    "    year = str(year)\n",
    "    month = (lambda month: str(month) if len(str(month)) == 2 else '0'+str(month))(month)\n",
    "\n",
    "    new_df = df.groupby('customer_id')['rental_id'].count().reset_index()\n",
    "    new_df.rename(columns = {'rental_id': 'rentals_{}_{}'.format(month,year)}, inplace = True)\n",
    "\n",
    "    return new_df"
   ]
  },
  {
   "cell_type": "markdown",
   "id": "565152b1-88b4-456a-a53f-5b99371fcca7",
   "metadata": {},
   "source": [
    "## Python function \"compare_rentals\""
   ]
  },
  {
   "cell_type": "code",
   "execution_count": null,
   "id": "1694ebb7-cac9-4d08-adce-76b24f81be24",
   "metadata": {},
   "outputs": [],
   "source": [
    "def compare_rentals(df1, df2):\n",
    "    '''Function that takes two DataFrames as input containing the number of rentals \n",
    "    made by each customer in different months and years.\n",
    "    Returns a combined DataFrame with a new 'difference' column, which is the difference \n",
    "    between the number of rentals in the two months.'''\n",
    "\n",
    "    new_df = pd.merge(df1, df2, how = 'outer', on = 'customer_id')\n",
    "\n",
    "    new_df[\"difference\"] = df.iloc[:, 2] - df.iloc[:, 1]\n",
    "\n",
    "    return new_df "
   ]
  }
 ],
 "metadata": {
  "kernelspec": {
   "display_name": "Python 3 (ipykernel)",
   "language": "python",
   "name": "python3"
  },
  "language_info": {
   "codemirror_mode": {
    "name": "ipython",
    "version": 3
   },
   "file_extension": ".py",
   "mimetype": "text/x-python",
   "name": "python",
   "nbconvert_exporter": "python",
   "pygments_lexer": "ipython3",
   "version": "3.11.8"
  }
 },
 "nbformat": 4,
 "nbformat_minor": 5
}
